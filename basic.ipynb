{
 "cells": [
  {
   "cell_type": "code",
   "execution_count": 3,
   "metadata": {},
   "outputs": [
    {
     "name": "stdout",
     "output_type": "stream",
     "text": [
      "Hello World\n"
     ]
    }
   ],
   "source": [
    "print(\"Hello World\")"
   ]
  },
  {
   "cell_type": "code",
   "execution_count": 4,
   "metadata": {},
   "outputs": [
    {
     "name": "stdout",
     "output_type": "stream",
     "text": [
      "Hello Zain\n"
     ]
    }
   ],
   "source": [
    "a = input(\"Enter Your Name.\")\n",
    "print(\"Hello \"+ a)"
   ]
  },
  {
   "cell_type": "code",
   "execution_count": 2,
   "metadata": {},
   "outputs": [
    {
     "data": {
      "text/plain": [
       "str"
      ]
     },
     "execution_count": 2,
     "metadata": {},
     "output_type": "execute_result"
    }
   ],
   "source": [
    "num = input()\n",
    "type(num)"
   ]
  },
  {
   "cell_type": "code",
   "execution_count": 7,
   "metadata": {},
   "outputs": [
    {
     "data": {
      "text/plain": [
       "15"
      ]
     },
     "execution_count": 7,
     "metadata": {},
     "output_type": "execute_result"
    }
   ],
   "source": [
    "name=\"Zain ul Abideen\"\n",
    "len(name)\n"
   ]
  },
  {
   "cell_type": "code",
   "execution_count": 5,
   "metadata": {},
   "outputs": [
    {
     "name": "stdout",
     "output_type": "stream",
     "text": [
      "Zain\n"
     ]
    }
   ],
   "source": [
    "print(name[0:4]) # Last index will not be added"
   ]
  },
  {
   "cell_type": "code",
   "execution_count": 8,
   "metadata": {},
   "outputs": [
    {
     "name": "stdout",
     "output_type": "stream",
     "text": [
      "a\n"
     ]
    }
   ],
   "source": [
    "print(name[1])"
   ]
  },
  {
   "cell_type": "code",
   "execution_count": 9,
   "metadata": {},
   "outputs": [
    {
     "name": "stdout",
     "output_type": "stream",
     "text": [
      "Zi lAien\n"
     ]
    }
   ],
   "source": [
    "print(name[0:15:2])"
   ]
  },
  {
   "cell_type": "markdown",
   "metadata": {},
   "source": [
    "DataTypes\n"
   ]
  },
  {
   "cell_type": "code",
   "execution_count": 10,
   "metadata": {},
   "outputs": [
    {
     "data": {
      "text/plain": [
       "int"
      ]
     },
     "execution_count": 10,
     "metadata": {},
     "output_type": "execute_result"
    }
   ],
   "source": [
    "n=50\n",
    "type(n)"
   ]
  },
  {
   "cell_type": "code",
   "execution_count": 11,
   "metadata": {},
   "outputs": [
    {
     "data": {
      "text/plain": [
       "str"
      ]
     },
     "execution_count": 11,
     "metadata": {},
     "output_type": "execute_result"
    }
   ],
   "source": [
    "a=str(n)\n",
    "type(a)"
   ]
  },
  {
   "cell_type": "code",
   "execution_count": 12,
   "metadata": {},
   "outputs": [
    {
     "name": "stdout",
     "output_type": "stream",
     "text": [
      "50\n"
     ]
    }
   ],
   "source": [
    "print(a)"
   ]
  },
  {
   "cell_type": "code",
   "execution_count": 14,
   "metadata": {},
   "outputs": [
    {
     "data": {
      "text/plain": [
       "float"
      ]
     },
     "execution_count": 14,
     "metadata": {},
     "output_type": "execute_result"
    }
   ],
   "source": [
    "pi=3.1514\n",
    "type(pi)"
   ]
  },
  {
   "cell_type": "code",
   "execution_count": 15,
   "metadata": {},
   "outputs": [
    {
     "data": {
      "text/plain": [
       "int"
      ]
     },
     "execution_count": 15,
     "metadata": {},
     "output_type": "execute_result"
    }
   ],
   "source": [
    "a= int(input(\"Enter Your Age.\"))\n",
    "type(a)"
   ]
  },
  {
   "cell_type": "code",
   "execution_count": 17,
   "metadata": {},
   "outputs": [
    {
     "data": {
      "text/plain": [
       "float"
      ]
     },
     "execution_count": 17,
     "metadata": {},
     "output_type": "execute_result"
    }
   ],
   "source": [
    "x=float(input(\"Enter your weight.\"))\n",
    "type(x)"
   ]
  },
  {
   "cell_type": "code",
   "execution_count": 18,
   "metadata": {},
   "outputs": [
    {
     "data": {
      "text/plain": [
       "str"
      ]
     },
     "execution_count": 18,
     "metadata": {},
     "output_type": "execute_result"
    }
   ],
   "source": [
    "z=input(\"Enter your name\")\n",
    "type(z)"
   ]
  },
  {
   "cell_type": "markdown",
   "metadata": {},
   "source": [
    "Task 1 : Write a code in which you enter a two digit number and answer will be the sum of these numbers"
   ]
  },
  {
   "cell_type": "code",
   "execution_count": 24,
   "metadata": {},
   "outputs": [
    {
     "name": "stdout",
     "output_type": "stream",
     "text": [
      "Sum of both numbers is: 9\n"
     ]
    }
   ],
   "source": [
    "number=input(\"Enter 2 digit number:\")\n",
    "a=int(number[0])\n",
    "b=int(number[1])\n",
    "addition=a+b\n",
    "print(\"Sum of both numbers is:\" , addition)"
   ]
  },
  {
   "cell_type": "markdown",
   "metadata": {},
   "source": [
    "Rule for solving equations is :PEMDAS\n",
    "PEMDAS stands for Parentheses, Exponents, Multiplication and Division, and Addition and Sub\n",
    "traction. It is a mnemonic device that helps you remember the order of operations when solving equations."
   ]
  },
  {
   "cell_type": "markdown",
   "metadata": {},
   "source": [
    "Task 2 : Write a program that calculates the number of characters in a person's name."
   ]
  },
  {
   "cell_type": "code",
   "execution_count": 2,
   "metadata": {},
   "outputs": [
    {
     "name": "stdout",
     "output_type": "stream",
     "text": [
      "Number of characters in your name are:  6\n"
     ]
    }
   ],
   "source": [
    "name=input(\"Enter Your name: \")\n",
    "print(\"Number of characters in your name are: \",len(name))"
   ]
  },
  {
   "cell_type": "markdown",
   "metadata": {},
   "source": [
    "Task 3 : Write a program that calculates the BMI of a user.\n",
    "BMI= weight(kg)/height*height"
   ]
  },
  {
   "cell_type": "code",
   "execution_count": 9,
   "metadata": {},
   "outputs": [
    {
     "name": "stdout",
     "output_type": "stream",
     "text": [
      "You are 0.017060107121602858 kg overweight.\n",
      "Rounded BMI is: 0\n"
     ]
    }
   ],
   "source": [
    "weight=int(input(\"Enter your weight(KG):\"))\n",
    "height=int(input(\"Enter your height(M):\"))\n",
    "bmi=weight/height**2\n",
    "new_bmi=int(bmi)\n",
    "print(f\"You are {bmi} kg overweight.\")\n",
    "print(f\"Rounded BMI is: {new_bmi}\")"
   ]
  },
  {
   "cell_type": "markdown",
   "metadata": {},
   "source": [
    "Task 4 : Create a program using math and f-Strings that tells us how many days, weeks, months we have left if we live until 90 years old\n",
    "\n"
   ]
  },
  {
   "cell_type": "code",
   "execution_count": 11,
   "metadata": {},
   "outputs": [
    {
     "name": "stdout",
     "output_type": "stream",
     "text": [
      "You have 24090 days, 3432 weeks and 792 months left. 66\n"
     ]
    }
   ],
   "source": [
    "total_age=90\n",
    "curr_age=int(input(\"What is your current age: \"))\n",
    "years_left=total_age-curr_age\n",
    "months_left=years_left*12\n",
    "weeks_left=years_left*52\n",
    "days_left=years_left*365\n",
    "print(f\"You have {days_left} days, {weeks_left} weeks and {months_left} months left.\")"
   ]
  },
  {
   "cell_type": "markdown",
   "metadata": {},
   "source": [
    "Task 5 : Write a python program that takes the total bill, the percentage of the bill you want to give tip and number of people to split the bill, and returns the amount of the bill each person should pay."
   ]
  },
  {
   "cell_type": "code",
   "execution_count": 14,
   "metadata": {},
   "outputs": [
    {
     "name": "stdout",
     "output_type": "stream",
     "text": [
      "Total bill with tip is: 165.0 and each person will pay: 33.0$\n"
     ]
    }
   ],
   "source": [
    "total_bill= float(input(\"What is the total bill: \"))\n",
    "tip=int(input(\"How much percentage you want to give tip 10,12 or 15: \"))\n",
    "if tip==10:\n",
    "    tip_amount= total_bill* (10/100)\n",
    "elif tip==12:\n",
    "    tip_amount=total_bill*(12/100)\n",
    "elif tip==15:\n",
    "    tip_amount=total_bill*(15/100)\n",
    "\n",
    "persons=int(input(\"How many people will have to split the bill: \"))\n",
    "bill_with_tip= total_bill+tip_amount\n",
    "split=bill_with_tip/persons\n",
    "print(f\"Total bill with tip is: {bill_with_tip} and each person will pay: {split}$\")\n"
   ]
  },
  {
   "cell_type": "markdown",
   "metadata": {},
   "source": [
    "Task 6 :  Pizza order management system."
   ]
  },
  {
   "cell_type": "code",
   "execution_count": 15,
   "metadata": {},
   "outputs": [
    {
     "name": "stdout",
     "output_type": "stream",
     "text": [
      "----Check the Rate List First----\n",
      "Small Pizza : 15$ \n",
      "Medium Pizza : 20$ \n",
      "Large Pizza : 25$ \n",
      "Pepperoni for small Pizza : 2$ \n",
      "Pepperoni for medium or large pizza : 3$ \n",
      "Extra Cheeze(all sizes) : 1$\n",
      "------------------\n",
      "You have ordered Large size pizza\n",
      "Your Total bill is : 28$\n"
     ]
    }
   ],
   "source": [
    "small_Pizza=15\n",
    "medium_pizza=20\n",
    "large_pizza=25\n",
    "\n",
    "pepperoniForSmallPizza= 2\n",
    "pepperoniForLarge_or_mediumPizza=3\n",
    "extraCheeze=1 \n",
    "print(\"----Check the Rate List First----\")\n",
    "print(f\"Small Pizza : {small_Pizza}$ \\nMedium Pizza : {medium_pizza}$ \\nLarge Pizza : {large_pizza}$ \\nPepperoni for small Pizza : {pepperoniForSmallPizza}$ \\nPepperoni for medium or large pizza : {pepperoniForLarge_or_mediumPizza}$ \\nExtra Cheeze(all sizes) : {extraCheeze}$\")\n",
    "pizzaSize=input(\"Enter the size of Pizza you want:\")\n",
    "if pizzaSize==\"Small\":\n",
    "    rate=small_Pizza + pepperoniForSmallPizza\n",
    "elif pizzaSize==\"Medium\":\n",
    "    rate=medium_pizza + pepperoniForLarge_or_mediumPizza\n",
    "elif pizzaSize==\"Large\":\n",
    "    rate=large_pizza + pepperoniForLarge_or_mediumPizza\n",
    "\n",
    "cheeze=input(\"Do you want extra cheeze\")\n",
    "if cheeze==\"Yes\":\n",
    "    rate +=extraCheeze\n",
    "elif cheeze==\"No\":\n",
    "    exit\n",
    "print(\"------------------\")\n",
    "print(f\"You have ordered {pizzaSize} size pizza\")\n",
    "print(f\"Your Total bill is : {rate}$\")\n",
    "\n"
   ]
  }
 ],
 "metadata": {
  "kernelspec": {
   "display_name": "Python 3",
   "language": "python",
   "name": "python3"
  },
  "language_info": {
   "codemirror_mode": {
    "name": "ipython",
    "version": 3
   },
   "file_extension": ".py",
   "mimetype": "text/x-python",
   "name": "python",
   "nbconvert_exporter": "python",
   "pygments_lexer": "ipython3",
   "version": "3.11.9"
  }
 },
 "nbformat": 4,
 "nbformat_minor": 2
}
